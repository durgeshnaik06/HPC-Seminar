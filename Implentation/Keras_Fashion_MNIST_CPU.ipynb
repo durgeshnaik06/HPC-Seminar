{
  "nbformat": 4,
  "nbformat_minor": 0,
  "metadata": {
    "colab": {
      "name": "Keras Fashion MNIST-CPU",
      "version": "0.3.2",
      "provenance": [],
      "collapsed_sections": []
    },
    "kernelspec": {
      "name": "python3",
      "display_name": "Python 3"
    }
  },
  "cells": [
    {
      "cell_type": "code",
      "metadata": {
        "id": "kg8cu1MlKyak",
        "colab_type": "code",
        "colab": {}
      },
      "source": [
        "%%capture\n",
        "!pip install watermark"
      ],
      "execution_count": 0,
      "outputs": []
    },
    {
      "cell_type": "code",
      "metadata": {
        "id": "tvj-Q4Z9LT7M",
        "colab_type": "code",
        "outputId": "a46532f5-8d8e-416f-d08d-c7f598b2582e",
        "colab": {
          "base_uri": "https://localhost:8080/",
          "height": 187
        }
      },
      "source": [
        "%load_ext watermark\n",
        "%watermark -p tensorflow,numpy -m"
      ],
      "execution_count": 0,
      "outputs": [
        {
          "output_type": "stream",
          "text": [
            "tensorflow 1.13.1\n",
            "numpy 1.14.6\n",
            "\n",
            "compiler   : GCC 8.2.0\n",
            "system     : Linux\n",
            "release    : 4.14.79+\n",
            "machine    : x86_64\n",
            "processor  : x86_64\n",
            "CPU cores  : 2\n",
            "interpreter: 64bit\n"
          ],
          "name": "stdout"
        }
      ]
    },
    {
      "cell_type": "code",
      "metadata": {
        "id": "nek_hqDzLXsf",
        "colab_type": "code",
        "outputId": "623d526a-9084-49d5-9d31-45cde742884f",
        "colab": {
          "base_uri": "https://localhost:8080/",
          "height": 153
        }
      },
      "source": [
        "import os\n",
        "\n",
        "import tensorflow as tf\n",
        "import numpy as np\n",
        "import pandas as pd\n",
        "from sklearn.model_selection import StratifiedShuffleSplit\n",
        "\n",
        "(x_train, y_train), (x_test, y_test) = tf.keras.datasets.fashion_mnist.load_data()\n",
        "\n",
        "# add empty color dimension\n",
        "x_train = np.expand_dims(x_train, -1)\n",
        "x_test = np.expand_dims(x_test, -1)"
      ],
      "execution_count": 0,
      "outputs": [
        {
          "output_type": "stream",
          "text": [
            "Downloading data from https://storage.googleapis.com/tensorflow/tf-keras-datasets/train-labels-idx1-ubyte.gz\n",
            "32768/29515 [=================================] - 0s 0us/step\n",
            "Downloading data from https://storage.googleapis.com/tensorflow/tf-keras-datasets/train-images-idx3-ubyte.gz\n",
            "26427392/26421880 [==============================] - 0s 0us/step\n",
            "Downloading data from https://storage.googleapis.com/tensorflow/tf-keras-datasets/t10k-labels-idx1-ubyte.gz\n",
            "8192/5148 [===============================================] - 0s 0us/step\n",
            "Downloading data from https://storage.googleapis.com/tensorflow/tf-keras-datasets/t10k-images-idx3-ubyte.gz\n",
            "4423680/4422102 [==============================] - 0s 0us/step\n"
          ],
          "name": "stdout"
        }
      ]
    },
    {
      "cell_type": "code",
      "metadata": {
        "id": "jrx31PIULh5H",
        "colab_type": "code",
        "outputId": "cc7466e5-d7fd-4b49-b553-dfc1a6096c1d",
        "colab": {
          "base_uri": "https://localhost:8080/",
          "height": 170
        }
      },
      "source": [
        "pd.set_option('display.float_format', lambda x: '%.3f' % x)\n",
        "pd.Series(x_train.reshape(-1)).describe()"
      ],
      "execution_count": 0,
      "outputs": [
        {
          "output_type": "execute_result",
          "data": {
            "text/plain": [
              "count   47040000.000\n",
              "mean          72.940\n",
              "std           90.021\n",
              "min            0.000\n",
              "25%            0.000\n",
              "50%            0.000\n",
              "75%          163.000\n",
              "max          255.000\n",
              "dtype: float64"
            ]
          },
          "metadata": {
            "tags": []
          },
          "execution_count": 6
        }
      ]
    },
    {
      "cell_type": "code",
      "metadata": {
        "id": "ukm9VsidLx7n",
        "colab_type": "code",
        "outputId": "cc84e1c1-5eb3-47aa-9afd-0cc580b4073a",
        "colab": {
          "base_uri": "https://localhost:8080/",
          "height": 170
        }
      },
      "source": [
        "pd.Series(y_train.reshape(-1)).describe()"
      ],
      "execution_count": 0,
      "outputs": [
        {
          "output_type": "execute_result",
          "data": {
            "text/plain": [
              "count   60000.000\n",
              "mean        4.500\n",
              "std         2.872\n",
              "min         0.000\n",
              "25%         2.000\n",
              "50%         4.500\n",
              "75%         7.000\n",
              "max         9.000\n",
              "dtype: float64"
            ]
          },
          "metadata": {
            "tags": []
          },
          "execution_count": 7
        }
      ]
    },
    {
      "cell_type": "code",
      "metadata": {
        "id": "G--4rMS7L3xH",
        "colab_type": "code",
        "outputId": "ebb168e2-c9d5-4d74-e665-ce8c8064bc35",
        "colab": {
          "base_uri": "https://localhost:8080/",
          "height": 34
        }
      },
      "source": [
        "sss = StratifiedShuffleSplit(n_splits=5, random_state=0, test_size=1/6)\n",
        "train_index, valid_index = next(sss.split(x_train, y_train))\n",
        "x_valid, y_valid = x_train[valid_index], y_train[valid_index]\n",
        "x_train, y_train = x_train[train_index], y_train[train_index]\n",
        "print(x_train.shape, x_valid.shape, x_test.shape)"
      ],
      "execution_count": 0,
      "outputs": [
        {
          "output_type": "stream",
          "text": [
            "(50000, 28, 28, 1) (10000, 28, 28, 1) (10000, 28, 28, 1)\n"
          ],
          "name": "stdout"
        }
      ]
    },
    {
      "cell_type": "code",
      "metadata": {
        "id": "s9v4NX1pL-VH",
        "colab_type": "code",
        "outputId": "2d94df57-884f-4283-bf54-a05752b998f9",
        "colab": {
          "base_uri": "https://localhost:8080/",
          "height": 870
        }
      },
      "source": [
        "model = tf.keras.models.Sequential()\n",
        "model.add(tf.keras.layers.BatchNormalization(input_shape=x_train.shape[1:]))\n",
        "model.add(tf.keras.layers.Conv2D(64, (5, 5), padding='same', activation='elu'))\n",
        "model.add(tf.keras.layers.MaxPooling2D(pool_size=(2, 2), strides=(2,2)))\n",
        "model.add(tf.keras.layers.Dropout(0.25))\n",
        "\n",
        "model.add(tf.keras.layers.BatchNormalization(input_shape=x_train.shape[1:]))\n",
        "model.add(tf.keras.layers.Conv2D(128, (5, 5), padding='same', activation='elu'))\n",
        "model.add(tf.keras.layers.MaxPooling2D(pool_size=(2, 2)))\n",
        "model.add(tf.keras.layers.Dropout(0.25))\n",
        "\n",
        "model.add(tf.keras.layers.BatchNormalization(input_shape=x_train.shape[1:]))\n",
        "model.add(tf.keras.layers.Conv2D(256, (5, 5), padding='same', activation='elu'))\n",
        "model.add(tf.keras.layers.MaxPooling2D(pool_size=(2, 2), strides=(2,2)))\n",
        "model.add(tf.keras.layers.Dropout(0.25))\n",
        "\n",
        "model.add(tf.keras.layers.Flatten())\n",
        "model.add(tf.keras.layers.Dense(256))\n",
        "model.add(tf.keras.layers.Activation('elu'))\n",
        "model.add(tf.keras.layers.Dropout(0.5))\n",
        "model.add(tf.keras.layers.Dense(10))\n",
        "model.add(tf.keras.layers.Activation('softmax'))\n",
        "model.summary()"
      ],
      "execution_count": 0,
      "outputs": [
        {
          "output_type": "stream",
          "text": [
            "WARNING:tensorflow:From /usr/local/lib/python3.6/dist-packages/tensorflow/python/ops/resource_variable_ops.py:435: colocate_with (from tensorflow.python.framework.ops) is deprecated and will be removed in a future version.\n",
            "Instructions for updating:\n",
            "Colocations handled automatically by placer.\n",
            "WARNING:tensorflow:From /usr/local/lib/python3.6/dist-packages/tensorflow/python/keras/layers/core.py:143: calling dropout (from tensorflow.python.ops.nn_ops) with keep_prob is deprecated and will be removed in a future version.\n",
            "Instructions for updating:\n",
            "Please use `rate` instead of `keep_prob`. Rate should be set to `rate = 1 - keep_prob`.\n",
            "_________________________________________________________________\n",
            "Layer (type)                 Output Shape              Param #   \n",
            "=================================================================\n",
            "batch_normalization_v1 (Batc (None, 28, 28, 1)         4         \n",
            "_________________________________________________________________\n",
            "conv2d (Conv2D)              (None, 28, 28, 64)        1664      \n",
            "_________________________________________________________________\n",
            "max_pooling2d (MaxPooling2D) (None, 14, 14, 64)        0         \n",
            "_________________________________________________________________\n",
            "dropout (Dropout)            (None, 14, 14, 64)        0         \n",
            "_________________________________________________________________\n",
            "batch_normalization_v1_1 (Ba (None, 14, 14, 64)        256       \n",
            "_________________________________________________________________\n",
            "conv2d_1 (Conv2D)            (None, 14, 14, 128)       204928    \n",
            "_________________________________________________________________\n",
            "max_pooling2d_1 (MaxPooling2 (None, 7, 7, 128)         0         \n",
            "_________________________________________________________________\n",
            "dropout_1 (Dropout)          (None, 7, 7, 128)         0         \n",
            "_________________________________________________________________\n",
            "batch_normalization_v1_2 (Ba (None, 7, 7, 128)         512       \n",
            "_________________________________________________________________\n",
            "conv2d_2 (Conv2D)            (None, 7, 7, 256)         819456    \n",
            "_________________________________________________________________\n",
            "max_pooling2d_2 (MaxPooling2 (None, 3, 3, 256)         0         \n",
            "_________________________________________________________________\n",
            "dropout_2 (Dropout)          (None, 3, 3, 256)         0         \n",
            "_________________________________________________________________\n",
            "flatten (Flatten)            (None, 2304)              0         \n",
            "_________________________________________________________________\n",
            "dense (Dense)                (None, 256)               590080    \n",
            "_________________________________________________________________\n",
            "activation (Activation)      (None, 256)               0         \n",
            "_________________________________________________________________\n",
            "dropout_3 (Dropout)          (None, 256)               0         \n",
            "_________________________________________________________________\n",
            "dense_1 (Dense)              (None, 10)                2570      \n",
            "_________________________________________________________________\n",
            "activation_1 (Activation)    (None, 10)                0         \n",
            "=================================================================\n",
            "Total params: 1,619,470\n",
            "Trainable params: 1,619,084\n",
            "Non-trainable params: 386\n",
            "_________________________________________________________________\n"
          ],
          "name": "stdout"
        }
      ]
    },
    {
      "cell_type": "code",
      "metadata": {
        "id": "P3V_b96WMGS_",
        "colab_type": "code",
        "colab": {}
      },
      "source": [
        "model.compile(\n",
        "    optimizer=tf.train.AdamOptimizer(learning_rate=1e-3, ),\n",
        "    loss=tf.keras.losses.sparse_categorical_crossentropy,\n",
        "    metrics=['sparse_categorical_accuracy']\n",
        ")"
      ],
      "execution_count": 0,
      "outputs": []
    },
    {
      "cell_type": "code",
      "metadata": {
        "id": "vJSIzWqHMPP3",
        "colab_type": "code",
        "outputId": "70f1cc33-4f18-4d7c-d6a0-8d872fa4a64b",
        "colab": {
          "base_uri": "https://localhost:8080/",
          "height": 836
        }
      },
      "source": [
        "%%time\n",
        "def train_gen(batch_size):\n",
        "  while True:\n",
        "    offset = np.random.randint(0, x_train.shape[0] - batch_size)\n",
        "    yield x_train[offset:offset+batch_size], y_train[offset:offset + batch_size]\n",
        "    \n",
        "\n",
        "model.fit_generator(\n",
        "    train_gen(512),\n",
        "    epochs=15,\n",
        "    steps_per_epoch=100,\n",
        "    validation_data=(x_valid, y_valid)\n",
        ")"
      ],
      "execution_count": 0,
      "outputs": [
        {
          "output_type": "stream",
          "text": [
            "Epoch 1/15\n",
            "10000/10000 [==============================] - 30s 3ms/sample - loss: 0.9430 - sparse_categorical_accuracy: 0.6443\n",
            "100/100 [==============================] - 674s 7s/step - loss: 1.1122 - sparse_categorical_accuracy: 0.7094 - val_loss: 0.9486 - val_sparse_categorical_accuracy: 0.6443\n",
            "Epoch 2/15\n",
            "10000/10000 [==============================] - 28s 3ms/sample - loss: 0.8588 - sparse_categorical_accuracy: 0.7082\n",
            "100/100 [==============================] - 670s 7s/step - loss: 0.5008 - sparse_categorical_accuracy: 0.8273 - val_loss: 0.8622 - val_sparse_categorical_accuracy: 0.7082\n",
            "Epoch 3/15\n",
            "10000/10000 [==============================] - 29s 3ms/sample - loss: 0.5329 - sparse_categorical_accuracy: 0.7980\n",
            "100/100 [==============================] - 659s 7s/step - loss: 0.4056 - sparse_categorical_accuracy: 0.8583 - val_loss: 0.5338 - val_sparse_categorical_accuracy: 0.7980\n",
            "Epoch 4/15\n",
            "10000/10000 [==============================] - 31s 3ms/sample - loss: 0.3461 - sparse_categorical_accuracy: 0.8736\n",
            "100/100 [==============================] - 656s 7s/step - loss: 0.3495 - sparse_categorical_accuracy: 0.8759 - val_loss: 0.3464 - val_sparse_categorical_accuracy: 0.8736\n",
            "Epoch 5/15\n",
            "10000/10000 [==============================] - 32s 3ms/sample - loss: 0.2727 - sparse_categorical_accuracy: 0.9002\n",
            "100/100 [==============================] - 654s 7s/step - loss: 0.3110 - sparse_categorical_accuracy: 0.8885 - val_loss: 0.2730 - val_sparse_categorical_accuracy: 0.9002\n",
            "Epoch 6/15\n",
            "10000/10000 [==============================] - 31s 3ms/sample - loss: 0.2473 - sparse_categorical_accuracy: 0.9062\n",
            "100/100 [==============================] - 659s 7s/step - loss: 0.2809 - sparse_categorical_accuracy: 0.8979 - val_loss: 0.2465 - val_sparse_categorical_accuracy: 0.9062\n",
            "Epoch 7/15\n",
            "10000/10000 [==============================] - 30s 3ms/sample - loss: 0.2325 - sparse_categorical_accuracy: 0.9164\n",
            "100/100 [==============================] - 667s 7s/step - loss: 0.2553 - sparse_categorical_accuracy: 0.9056 - val_loss: 0.2318 - val_sparse_categorical_accuracy: 0.9164\n",
            "Epoch 8/15\n",
            "10000/10000 [==============================] - 29s 3ms/sample - loss: 0.2406 - sparse_categorical_accuracy: 0.9154\n",
            "100/100 [==============================] - 666s 7s/step - loss: 0.2364 - sparse_categorical_accuracy: 0.9133 - val_loss: 0.2405 - val_sparse_categorical_accuracy: 0.9154\n",
            "Epoch 9/15\n",
            "10000/10000 [==============================] - 31s 3ms/sample - loss: 0.2265 - sparse_categorical_accuracy: 0.9209\n",
            "100/100 [==============================] - 667s 7s/step - loss: 0.2226 - sparse_categorical_accuracy: 0.9188 - val_loss: 0.2257 - val_sparse_categorical_accuracy: 0.9209\n",
            "Epoch 10/15\n",
            "10000/10000 [==============================] - 30s 3ms/sample - loss: 0.2243 - sparse_categorical_accuracy: 0.9208\n",
            "100/100 [==============================] - 658s 7s/step - loss: 0.2006 - sparse_categorical_accuracy: 0.9256 - val_loss: 0.2239 - val_sparse_categorical_accuracy: 0.9208\n",
            "Epoch 11/15\n",
            "10000/10000 [==============================] - 30s 3ms/sample - loss: 0.2122 - sparse_categorical_accuracy: 0.9245\n",
            "100/100 [==============================] - 651s 7s/step - loss: 0.1931 - sparse_categorical_accuracy: 0.9285 - val_loss: 0.2126 - val_sparse_categorical_accuracy: 0.9245\n",
            "Epoch 12/15\n",
            "10000/10000 [==============================] - 31s 3ms/sample - loss: 0.2295 - sparse_categorical_accuracy: 0.9179\n",
            "100/100 [==============================] - 651s 7s/step - loss: 0.1715 - sparse_categorical_accuracy: 0.9358 - val_loss: 0.2286 - val_sparse_categorical_accuracy: 0.9179\n",
            "Epoch 13/15\n",
            "10000/10000 [==============================] - 31s 3ms/sample - loss: 0.2239 - sparse_categorical_accuracy: 0.9243\n",
            "100/100 [==============================] - 653s 7s/step - loss: 0.1663 - sparse_categorical_accuracy: 0.9378 - val_loss: 0.2235 - val_sparse_categorical_accuracy: 0.9243\n",
            "Epoch 14/15\n",
            "10000/10000 [==============================] - 30s 3ms/sample - loss: 0.2245 - sparse_categorical_accuracy: 0.9234\n",
            "100/100 [==============================] - 661s 7s/step - loss: 0.1526 - sparse_categorical_accuracy: 0.9437 - val_loss: 0.2242 - val_sparse_categorical_accuracy: 0.9234\n",
            "Epoch 15/15\n",
            "10000/10000 [==============================] - 30s 3ms/sample - loss: 0.2201 - sparse_categorical_accuracy: 0.9247\n",
            "100/100 [==============================] - 673s 7s/step - loss: 0.1431 - sparse_categorical_accuracy: 0.9460 - val_loss: 0.2205 - val_sparse_categorical_accuracy: 0.9247\n",
            "CPU times: user 5h 23min 48s, sys: 2min 54s, total: 5h 26min 43s\n",
            "Wall time: 2h 45min 19s\n"
          ],
          "name": "stdout"
        }
      ]
    }
  ]
}