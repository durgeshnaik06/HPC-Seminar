{
  "nbformat": 4,
  "nbformat_minor": 0,
  "metadata": {
    "colab": {
      "name": "Performance_Plot.ipynb",
      "version": "0.3.2",
      "provenance": [],
      "collapsed_sections": []
    },
    "kernelspec": {
      "name": "python3",
      "display_name": "Python 3"
    }
  },
  "cells": [
    {
      "cell_type": "code",
      "metadata": {
        "id": "JVRYNuw7GTnc",
        "colab_type": "code",
        "outputId": "1a23aaf6-5666-4c0b-9807-0b832a3e7385",
        "colab": {
          "base_uri": "https://localhost:8080/",
          "height": 476
        }
      },
      "source": [
        "from tensorflow.python.client import device_lib\n",
        "device_lib.list_local_devices()"
      ],
      "execution_count": 0,
      "outputs": [
        {
          "output_type": "execute_result",
          "data": {
            "text/plain": [
              "[name: \"/device:CPU:0\"\n",
              " device_type: \"CPU\"\n",
              " memory_limit: 268435456\n",
              " locality {\n",
              " }\n",
              " incarnation: 484596931399014464, name: \"/device:XLA_CPU:0\"\n",
              " device_type: \"XLA_CPU\"\n",
              " memory_limit: 17179869184\n",
              " locality {\n",
              " }\n",
              " incarnation: 6060683628947291939\n",
              " physical_device_desc: \"device: XLA_CPU device\", name: \"/device:XLA_GPU:0\"\n",
              " device_type: \"XLA_GPU\"\n",
              " memory_limit: 17179869184\n",
              " locality {\n",
              " }\n",
              " incarnation: 15051874430172143215\n",
              " physical_device_desc: \"device: XLA_GPU device\", name: \"/device:GPU:0\"\n",
              " device_type: \"GPU\"\n",
              " memory_limit: 9258129818\n",
              " locality {\n",
              "   bus_id: 1\n",
              "   links {\n",
              "   }\n",
              " }\n",
              " incarnation: 2427378806953272544\n",
              " physical_device_desc: \"device: 0, name: Tesla K80, pci bus id: 0000:00:04.0, compute capability: 3.7\"]"
            ]
          },
          "metadata": {
            "tags": []
          },
          "execution_count": 2
        }
      ]
    },
    {
      "cell_type": "code",
      "metadata": {
        "id": "UguXMOPiGaSy",
        "colab_type": "code",
        "outputId": "29846b46-887a-4541-972f-a7007b26f71f",
        "colab": {
          "base_uri": "https://localhost:8080/",
          "height": 491
        }
      },
      "source": [
        "# library\n",
        "import matplotlib.pyplot as plt\n",
        " \n",
        "# Create bars\n",
        "barWidth = 1.0\n",
        "bars1 = [10]\n",
        "bars2 = [4]\n",
        "bars3 = [2]\n",
        "bars4 = bars1 + bars2 + bars3\n",
        " \n",
        "# The X position of bars\n",
        "r1 = [1]\n",
        "r2 = [2]\n",
        "r3 = [3]\n",
        "r4 = r1 + r2 + r3\n",
        " \n",
        "# Create barplot\n",
        "plt.bar(r1, bars1, width = barWidth, color = (0.3,0.1,0.4,0.6), label='CPU')\n",
        "plt.bar(r2, bars2, width = barWidth, color = (0.3,0.5,0.4,0.6), label='GPU')\n",
        "plt.bar(r3, bars3, width = barWidth, color = (0.3,0.9,0.4,0.6), label='TPU')\n",
        "# Note: the barplot could be created easily. See the barplot section for other examples.\n",
        " \n",
        "# Create legend\n",
        "plt.legend()\n",
        " \n",
        "# Text below each barplot with a rotation at 90°\n",
        "plt.xticks([r + barWidth for r in range(len(r4))], ['Training time for CPU', 'Training time for GPU', 'Training time for TPU'], rotation=90)\n",
        " \n",
        "# Create labels\n",
        "label = ['9919s','204s','95s']\n",
        " \n",
        "# Text on the top of each barplot\n",
        "for i in range(len(r4)):\n",
        "  plt.text(x = r4[i] , y = bars4[i]+0.1, s = label[i], size = 15)\n",
        " \n",
        "# Adjust the margins\n",
        "plt.subplots_adjust(bottom= 0.1, top = 1)\n",
        " \n",
        "# Show graphic\n",
        "plt.show()\n"
      ],
      "execution_count": 0,
      "outputs": [
        {
          "output_type": "display_data",
          "data": {
            "image/png": "[encoded data removed]",
            "text/plain": [
              "<Figure size 576x396 with 1 Axes>"
            ]
          },
          "metadata": {
            "tags": []
          }
        }
      ]
    }
  ]
}