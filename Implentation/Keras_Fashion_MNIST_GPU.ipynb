{
  "nbformat": 4,
  "nbformat_minor": 0,
  "metadata": {
    "colab": {
      "name": "Copy of Keras Fashion MNIST - GPU",
      "version": "0.3.2",
      "provenance": [],
      "collapsed_sections": []
    },
    "kernelspec": {
      "name": "python3",
      "display_name": "Python 3"
    },
    "accelerator": "GPU"
  },
  "cells": [
    {
      "cell_type": "code",
      "metadata": {
        "id": "xdHrJctkrH9U",
        "colab_type": "code",
        "colab": {}
      },
      "source": [
        "%%capture\n",
        "!pip install watermark"
      ],
      "execution_count": 0,
      "outputs": []
    },
    {
      "cell_type": "code",
      "metadata": {
        "id": "conjYMPerLfW",
        "colab_type": "code",
        "outputId": "1ca73a91-7e2a-46b4-d363-9c189ca8be84",
        "colab": {
          "base_uri": "https://localhost:8080/",
          "height": 187
        }
      },
      "source": [
        "%load_ext watermark\n",
        "%watermark -p tensorflow,numpy -m"
      ],
      "execution_count": 0,
      "outputs": [
        {
          "output_type": "stream",
          "text": [
            "tensorflow 1.13.1\n",
            "numpy 1.14.6\n",
            "\n",
            "compiler   : GCC 8.2.0\n",
            "system     : Linux\n",
            "release    : 4.14.79+\n",
            "machine    : x86_64\n",
            "processor  : x86_64\n",
            "CPU cores  : 2\n",
            "interpreter: 64bit\n"
          ],
          "name": "stdout"
        }
      ]
    },
    {
      "cell_type": "markdown",
      "metadata": {
        "id": "5P9ue5OK7jKG",
        "colab_type": "text"
      },
      "source": [
        "(Adapted from https://github.com/tensorflow/tpu/blob/master/tools/colab/fashion_mnist.ipynb)"
      ]
    },
    {
      "cell_type": "markdown",
      "metadata": {
        "id": "Ot79jiI7GiHR",
        "colab_type": "text"
      },
      "source": [
        "# Fashion MNIST with Keras and GPU\n",
        "\n",
        "First, let's grab our dataset using `tf.keras.datasets`."
      ]
    },
    {
      "cell_type": "code",
      "metadata": {
        "id": "Zo-Yk6LFGfSf",
        "colab_type": "code",
        "outputId": "eb73270e-9b27-4aae-a309-a71c4c5ae7e0",
        "colab": {
          "base_uri": "https://localhost:8080/",
          "height": 153
        }
      },
      "source": [
        "import os\n",
        "\n",
        "import tensorflow as tf\n",
        "import numpy as np\n",
        "import pandas as pd\n",
        "from sklearn.model_selection import StratifiedShuffleSplit\n",
        "\n",
        "(x_train, y_train), (x_test, y_test) = tf.keras.datasets.fashion_mnist.load_data()\n",
        "\n",
        "# add empty color dimension\n",
        "x_train = np.expand_dims(x_train, -1)\n",
        "x_test = np.expand_dims(x_test, -1)"
      ],
      "execution_count": 0,
      "outputs": [
        {
          "output_type": "stream",
          "text": [
            "Downloading data from https://storage.googleapis.com/tensorflow/tf-keras-datasets/train-labels-idx1-ubyte.gz\n",
            "32768/29515 [=================================] - 0s 0us/step\n",
            "Downloading data from https://storage.googleapis.com/tensorflow/tf-keras-datasets/train-images-idx3-ubyte.gz\n",
            "26427392/26421880 [==============================] - 0s 0us/step\n",
            "Downloading data from https://storage.googleapis.com/tensorflow/tf-keras-datasets/t10k-labels-idx1-ubyte.gz\n",
            "8192/5148 [===============================================] - 0s 0us/step\n",
            "Downloading data from https://storage.googleapis.com/tensorflow/tf-keras-datasets/t10k-images-idx3-ubyte.gz\n",
            "4423680/4422102 [==============================] - 0s 0us/step\n"
          ],
          "name": "stdout"
        }
      ]
    },
    {
      "cell_type": "markdown",
      "metadata": {
        "id": "bIBg5cUtso-o",
        "colab_type": "text"
      },
      "source": [
        "Value distribution of X:"
      ]
    },
    {
      "cell_type": "code",
      "metadata": {
        "id": "4OMHWt6osCz3",
        "colab_type": "code",
        "outputId": "e223522c-d801-4a00-a429-e49da473de7b",
        "colab": {
          "base_uri": "https://localhost:8080/",
          "height": 170
        }
      },
      "source": [
        "pd.set_option('display.float_format', lambda x: '%.3f' % x)\n",
        "pd.Series(x_train.reshape(-1)).describe()"
      ],
      "execution_count": 0,
      "outputs": [
        {
          "output_type": "execute_result",
          "data": {
            "text/plain": [
              "count   47040000.000\n",
              "mean          72.940\n",
              "std           90.021\n",
              "min            0.000\n",
              "25%            0.000\n",
              "50%            0.000\n",
              "75%          163.000\n",
              "max          255.000\n",
              "dtype: float64"
            ]
          },
          "metadata": {
            "tags": []
          },
          "execution_count": 5
        }
      ]
    },
    {
      "cell_type": "markdown",
      "metadata": {
        "id": "1C-WcdnNsyFU",
        "colab_type": "text"
      },
      "source": [
        "Value distribution of Y:\n"
      ]
    },
    {
      "cell_type": "code",
      "metadata": {
        "id": "MCOsHdxEsjQD",
        "colab_type": "code",
        "outputId": "ad88d4b9-be04-4da8-c1ea-1077d70562e9",
        "colab": {
          "base_uri": "https://localhost:8080/",
          "height": 170
        }
      },
      "source": [
        "pd.Series(y_train.reshape(-1)).describe()"
      ],
      "execution_count": 0,
      "outputs": [
        {
          "output_type": "execute_result",
          "data": {
            "text/plain": [
              "count   60000.000\n",
              "mean        4.500\n",
              "std         2.872\n",
              "min         0.000\n",
              "25%         2.000\n",
              "50%         4.500\n",
              "75%         7.000\n",
              "max         9.000\n",
              "dtype: float64"
            ]
          },
          "metadata": {
            "tags": []
          },
          "execution_count": 6
        }
      ]
    },
    {
      "cell_type": "markdown",
      "metadata": {
        "id": "Lx_VvBFNxHsr",
        "colab_type": "text"
      },
      "source": [
        "### Create a validation set"
      ]
    },
    {
      "cell_type": "code",
      "metadata": {
        "id": "flkZMTP7xGvc",
        "colab_type": "code",
        "outputId": "c1062a6e-48be-4f70-9d8c-ead69429eb58",
        "colab": {
          "base_uri": "https://localhost:8080/",
          "height": 34
        }
      },
      "source": [
        "sss = StratifiedShuffleSplit(n_splits=5, random_state=0, test_size=1/6)\n",
        "train_index, valid_index = next(sss.split(x_train, y_train))\n",
        "x_valid, y_valid = x_train[valid_index], y_train[valid_index]\n",
        "x_train, y_train = x_train[train_index], y_train[train_index]\n",
        "print(x_train.shape, x_valid.shape, x_test.shape)"
      ],
      "execution_count": 0,
      "outputs": [
        {
          "output_type": "stream",
          "text": [
            "(50000, 28, 28, 1) (10000, 28, 28, 1) (10000, 28, 28, 1)\n"
          ],
          "name": "stdout"
        }
      ]
    },
    {
      "cell_type": "markdown",
      "metadata": {
        "id": "Hgc2FZKVMx15",
        "colab_type": "text"
      },
      "source": [
        "# Defining our model\n",
        "\n",
        "We will use a standard conv-net for this example.  We have 3 layers with drop-out and batch normalization between each layer."
      ]
    },
    {
      "cell_type": "code",
      "metadata": {
        "id": "W7gMbs70GxA7",
        "colab_type": "code",
        "outputId": "d5b7bb54-c816-4c54-d732-acd552f67aa8",
        "colab": {
          "base_uri": "https://localhost:8080/",
          "height": 870
        }
      },
      "source": [
        "model = tf.keras.models.Sequential()\n",
        "model.add(tf.keras.layers.BatchNormalization(input_shape=x_train.shape[1:]))\n",
        "model.add(tf.keras.layers.Conv2D(64, (5, 5), padding='same', activation='elu'))\n",
        "model.add(tf.keras.layers.MaxPooling2D(pool_size=(2, 2), strides=(2,2)))\n",
        "model.add(tf.keras.layers.Dropout(0.25))\n",
        "\n",
        "model.add(tf.keras.layers.BatchNormalization(input_shape=x_train.shape[1:]))\n",
        "model.add(tf.keras.layers.Conv2D(128, (5, 5), padding='same', activation='elu'))\n",
        "model.add(tf.keras.layers.MaxPooling2D(pool_size=(2, 2)))\n",
        "model.add(tf.keras.layers.Dropout(0.25))\n",
        "\n",
        "model.add(tf.keras.layers.BatchNormalization(input_shape=x_train.shape[1:]))\n",
        "model.add(tf.keras.layers.Conv2D(256, (5, 5), padding='same', activation='elu'))\n",
        "model.add(tf.keras.layers.MaxPooling2D(pool_size=(2, 2), strides=(2,2)))\n",
        "model.add(tf.keras.layers.Dropout(0.25))\n",
        "\n",
        "model.add(tf.keras.layers.Flatten())\n",
        "model.add(tf.keras.layers.Dense(256))\n",
        "model.add(tf.keras.layers.Activation('elu'))\n",
        "model.add(tf.keras.layers.Dropout(0.5))\n",
        "model.add(tf.keras.layers.Dense(10))\n",
        "model.add(tf.keras.layers.Activation('softmax'))\n",
        "model.summary()"
      ],
      "execution_count": 0,
      "outputs": [
        {
          "output_type": "stream",
          "text": [
            "WARNING:tensorflow:From /usr/local/lib/python3.6/dist-packages/tensorflow/python/ops/resource_variable_ops.py:435: colocate_with (from tensorflow.python.framework.ops) is deprecated and will be removed in a future version.\n",
            "Instructions for updating:\n",
            "Colocations handled automatically by placer.\n",
            "WARNING:tensorflow:From /usr/local/lib/python3.6/dist-packages/tensorflow/python/keras/layers/core.py:143: calling dropout (from tensorflow.python.ops.nn_ops) with keep_prob is deprecated and will be removed in a future version.\n",
            "Instructions for updating:\n",
            "Please use `rate` instead of `keep_prob`. Rate should be set to `rate = 1 - keep_prob`.\n",
            "_________________________________________________________________\n",
            "Layer (type)                 Output Shape              Param #   \n",
            "=================================================================\n",
            "batch_normalization_v1 (Batc (None, 28, 28, 1)         4         \n",
            "_________________________________________________________________\n",
            "conv2d (Conv2D)              (None, 28, 28, 64)        1664      \n",
            "_________________________________________________________________\n",
            "max_pooling2d (MaxPooling2D) (None, 14, 14, 64)        0         \n",
            "_________________________________________________________________\n",
            "dropout (Dropout)            (None, 14, 14, 64)        0         \n",
            "_________________________________________________________________\n",
            "batch_normalization_v1_1 (Ba (None, 14, 14, 64)        256       \n",
            "_________________________________________________________________\n",
            "conv2d_1 (Conv2D)            (None, 14, 14, 128)       204928    \n",
            "_________________________________________________________________\n",
            "max_pooling2d_1 (MaxPooling2 (None, 7, 7, 128)         0         \n",
            "_________________________________________________________________\n",
            "dropout_1 (Dropout)          (None, 7, 7, 128)         0         \n",
            "_________________________________________________________________\n",
            "batch_normalization_v1_2 (Ba (None, 7, 7, 128)         512       \n",
            "_________________________________________________________________\n",
            "conv2d_2 (Conv2D)            (None, 7, 7, 256)         819456    \n",
            "_________________________________________________________________\n",
            "max_pooling2d_2 (MaxPooling2 (None, 3, 3, 256)         0         \n",
            "_________________________________________________________________\n",
            "dropout_2 (Dropout)          (None, 3, 3, 256)         0         \n",
            "_________________________________________________________________\n",
            "flatten (Flatten)            (None, 2304)              0         \n",
            "_________________________________________________________________\n",
            "dense (Dense)                (None, 256)               590080    \n",
            "_________________________________________________________________\n",
            "activation (Activation)      (None, 256)               0         \n",
            "_________________________________________________________________\n",
            "dropout_3 (Dropout)          (None, 256)               0         \n",
            "_________________________________________________________________\n",
            "dense_1 (Dense)              (None, 10)                2570      \n",
            "_________________________________________________________________\n",
            "activation_1 (Activation)    (None, 10)                0         \n",
            "=================================================================\n",
            "Total params: 1,619,470\n",
            "Trainable params: 1,619,084\n",
            "Non-trainable params: 386\n",
            "_________________________________________________________________\n"
          ],
          "name": "stdout"
        }
      ]
    },
    {
      "cell_type": "markdown",
      "metadata": {
        "id": "xLeZATVaNAnE",
        "colab_type": "text"
      },
      "source": [
        "# Training on the GPU\n",
        "\n",
        "Here we demonstrate that we can use a generator function and `fit_generator` to train the model.  You can also pass in `x_train` and `y_train` to `tpu_model.fit()` instead."
      ]
    },
    {
      "cell_type": "code",
      "metadata": {
        "id": "pWEYmd_hIWg8",
        "colab_type": "code",
        "colab": {}
      },
      "source": [
        "model.compile(\n",
        "    optimizer=tf.train.AdamOptimizer(learning_rate=1e-3, ),\n",
        "    loss=tf.keras.losses.sparse_categorical_crossentropy,\n",
        "    metrics=['sparse_categorical_accuracy']\n",
        ")"
      ],
      "execution_count": 0,
      "outputs": []
    },
    {
      "cell_type": "code",
      "metadata": {
        "id": "V1Zf7QtDvJAU",
        "colab_type": "code",
        "outputId": "c29b2920-28b3-4133-c720-1244374a9af1",
        "colab": {
          "base_uri": "https://localhost:8080/",
          "height": 836
        }
      },
      "source": [
        "%%time\n",
        "def train_gen(batch_size):\n",
        "  while True:\n",
        "    offset = np.random.randint(0, x_train.shape[0] - batch_size)\n",
        "    yield x_train[offset:offset+batch_size], y_train[offset:offset + batch_size]\n",
        "    \n",
        "\n",
        "model.fit_generator(\n",
        "    train_gen(512),\n",
        "    epochs=15,\n",
        "    steps_per_epoch=100,\n",
        "    validation_data=(x_valid, y_valid)\n",
        ")"
      ],
      "execution_count": 0,
      "outputs": [
        {
          "output_type": "stream",
          "text": [
            "Epoch 1/15\n",
            "10000/10000 [==============================] - 1s 106us/sample - loss: 0.9198 - sparse_categorical_accuracy: 0.6885\n",
            "100/100 [==============================] - 17s 173ms/step - loss: 1.2448 - sparse_categorical_accuracy: 0.6982 - val_loss: 0.9258 - val_sparse_categorical_accuracy: 0.6885\n",
            "Epoch 2/15\n",
            "10000/10000 [==============================] - 1s 81us/sample - loss: 1.0543 - sparse_categorical_accuracy: 0.6968\n",
            "100/100 [==============================] - 13s 131ms/step - loss: 0.4919 - sparse_categorical_accuracy: 0.8311 - val_loss: 1.0622 - val_sparse_categorical_accuracy: 0.6968\n",
            "Epoch 3/15\n",
            "10000/10000 [==============================] - 1s 80us/sample - loss: 0.5949 - sparse_categorical_accuracy: 0.7832\n",
            "100/100 [==============================] - 13s 131ms/step - loss: 0.3916 - sparse_categorical_accuracy: 0.8639 - val_loss: 0.5972 - val_sparse_categorical_accuracy: 0.7832\n",
            "Epoch 4/15\n",
            "10000/10000 [==============================] - 1s 80us/sample - loss: 0.3036 - sparse_categorical_accuracy: 0.8868\n",
            "100/100 [==============================] - 13s 132ms/step - loss: 0.3460 - sparse_categorical_accuracy: 0.8787 - val_loss: 0.3039 - val_sparse_categorical_accuracy: 0.8868\n",
            "Epoch 5/15\n",
            "10000/10000 [==============================] - 1s 80us/sample - loss: 0.2913 - sparse_categorical_accuracy: 0.8935\n",
            "100/100 [==============================] - 13s 131ms/step - loss: 0.3014 - sparse_categorical_accuracy: 0.8915 - val_loss: 0.2905 - val_sparse_categorical_accuracy: 0.8935\n",
            "Epoch 6/15\n",
            "10000/10000 [==============================] - 1s 80us/sample - loss: 0.2657 - sparse_categorical_accuracy: 0.9070\n",
            "100/100 [==============================] - 13s 131ms/step - loss: 0.2673 - sparse_categorical_accuracy: 0.9027 - val_loss: 0.2658 - val_sparse_categorical_accuracy: 0.9070\n",
            "Epoch 7/15\n",
            "10000/10000 [==============================] - 1s 80us/sample - loss: 0.2419 - sparse_categorical_accuracy: 0.9143\n",
            "100/100 [==============================] - 13s 131ms/step - loss: 0.2551 - sparse_categorical_accuracy: 0.9077 - val_loss: 0.2417 - val_sparse_categorical_accuracy: 0.9143\n",
            "Epoch 8/15\n",
            "10000/10000 [==============================] - 1s 80us/sample - loss: 0.2364 - sparse_categorical_accuracy: 0.9185\n",
            "100/100 [==============================] - 13s 131ms/step - loss: 0.2331 - sparse_categorical_accuracy: 0.9146 - val_loss: 0.2359 - val_sparse_categorical_accuracy: 0.9185\n",
            "Epoch 9/15\n",
            "10000/10000 [==============================] - 1s 80us/sample - loss: 0.2341 - sparse_categorical_accuracy: 0.9226\n",
            "100/100 [==============================] - 13s 132ms/step - loss: 0.2118 - sparse_categorical_accuracy: 0.9221 - val_loss: 0.2337 - val_sparse_categorical_accuracy: 0.9226\n",
            "Epoch 10/15\n",
            "10000/10000 [==============================] - 1s 79us/sample - loss: 0.2367 - sparse_categorical_accuracy: 0.9196\n",
            "100/100 [==============================] - 13s 131ms/step - loss: 0.2007 - sparse_categorical_accuracy: 0.9275 - val_loss: 0.2364 - val_sparse_categorical_accuracy: 0.9196\n",
            "Epoch 11/15\n",
            "10000/10000 [==============================] - 1s 80us/sample - loss: 0.2325 - sparse_categorical_accuracy: 0.9199\n",
            "100/100 [==============================] - 13s 131ms/step - loss: 0.1841 - sparse_categorical_accuracy: 0.9321 - val_loss: 0.2331 - val_sparse_categorical_accuracy: 0.9199\n",
            "Epoch 12/15\n",
            "10000/10000 [==============================] - 1s 81us/sample - loss: 0.2271 - sparse_categorical_accuracy: 0.9201\n",
            "100/100 [==============================] - 13s 132ms/step - loss: 0.1740 - sparse_categorical_accuracy: 0.9367 - val_loss: 0.2269 - val_sparse_categorical_accuracy: 0.9201\n",
            "Epoch 13/15\n",
            "10000/10000 [==============================] - 1s 80us/sample - loss: 0.2289 - sparse_categorical_accuracy: 0.9251\n",
            "100/100 [==============================] - 13s 132ms/step - loss: 0.1648 - sparse_categorical_accuracy: 0.9397 - val_loss: 0.2290 - val_sparse_categorical_accuracy: 0.9251\n",
            "Epoch 14/15\n",
            "10000/10000 [==============================] - 1s 80us/sample - loss: 0.2421 - sparse_categorical_accuracy: 0.9232\n",
            "100/100 [==============================] - 13s 132ms/step - loss: 0.1522 - sparse_categorical_accuracy: 0.9424 - val_loss: 0.2415 - val_sparse_categorical_accuracy: 0.9232\n",
            "Epoch 15/15\n",
            "10000/10000 [==============================] - 1s 81us/sample - loss: 0.2371 - sparse_categorical_accuracy: 0.9216\n",
            "100/100 [==============================] - 13s 132ms/step - loss: 0.1473 - sparse_categorical_accuracy: 0.9456 - val_loss: 0.2382 - val_sparse_categorical_accuracy: 0.9216\n",
            "CPU times: user 2min 2s, sys: 53.7 s, total: 2min 56s\n",
            "Wall time: 3min 24s\n"
          ],
          "name": "stdout"
        }
      ]
    },
    {
      "cell_type": "markdown",
      "metadata": {
        "id": "ESL6ltQTMm05",
        "colab_type": "text"
      },
      "source": [
        "# Checking our results (inference)\n"
      ]
    },
    {
      "cell_type": "code",
      "metadata": {
        "id": "SaYPv_aKId2d",
        "colab_type": "code",
        "outputId": "2311a63f-fd7b-44fa-969f-732bb01d0866",
        "colab": {
          "base_uri": "https://localhost:8080/",
          "height": 585
        }
      },
      "source": [
        "LABEL_NAMES = ['t_shirt', 'trouser', 'pullover', 'dress', 'coat', 'sandal', 'shirt', 'sneaker', 'bag', 'ankle_boots']\n",
        "\n",
        "from matplotlib import pyplot\n",
        "%matplotlib inline\n",
        "\n",
        "def plot_predictions(images, predictions, true_labels):\n",
        "  n = images.shape[0]\n",
        "  nc = int(np.ceil(n / 4))\n",
        "  fig = pyplot.figure(figsize=(4,3))\n",
        "  # axes = fig.add_subplot(nc, 4)\n",
        "  f, axes = pyplot.subplots(nc, 4)\n",
        "  f.tight_layout()\n",
        "  for i in range(nc * 4):\n",
        "    y = i // 4\n",
        "    x = i % 4\n",
        "    axes[x, y].axis('off')\n",
        "    \n",
        "    label = LABEL_NAMES[np.argmax(predictions[i])]\n",
        "    confidence = np.max(predictions[i])\n",
        "    if i > n:\n",
        "      continue\n",
        "    axes[x, y].imshow(images[i])\n",
        "    pred_label = np.argmax(predictions[i])\n",
        "    axes[x, y].set_title(\"{} ({})\\n {:.3f}\".format(\n",
        "      LABEL_NAMES[pred_label], \n",
        "      LABEL_NAMES[true_labels[i]],\n",
        "      confidence\n",
        "    ), color=(\"green\" if true_labels[i] == pred_label else \"red\"))\n",
        "  pyplot.gcf().set_size_inches(8, 8)  \n",
        "\n",
        "plot_predictions(\n",
        "    np.squeeze(x_test[:16]), \n",
        "    model.predict(x_test[:16]),\n",
        "    y_test[:16]\n",
        ")"
      ],
      "execution_count": 0,
      "outputs": [
        {
          "output_type": "display_data",
          "data": {
            "text/plain": [
              "<Figure size 288x216 with 0 Axes>"
            ]
          },
          "metadata": {
            "tags": []
          }
        },
        {
          "output_type": "display_data",
          "data": {
            "image/png": "[encoded data removed]",
            "text/plain": [
              "<Figure size 576x576 with 16 Axes>"
            ]
          },
          "metadata": {
            "tags": []
          }
        }
      ]
    },
    {
      "cell_type": "code",
      "metadata": {
        "id": "e0m_OqgFzAK6",
        "colab_type": "code",
        "outputId": "6d4783ef-315a-4546-dc3e-4a315c4c75cb",
        "colab": {
          "base_uri": "https://localhost:8080/",
          "height": 85
        }
      },
      "source": [
        "%%time\n",
        "# Evaluate the model on valid set\n",
        "score = model.evaluate(x_valid, y_valid, verbose=0)\n",
        "\n",
        "# Print test accuracy\n",
        "print('\\n', 'Valid accuracy:', score[1])"
      ],
      "execution_count": 0,
      "outputs": [
        {
          "output_type": "stream",
          "text": [
            "\n",
            " Valid accuracy: 0.9216\n",
            "CPU times: user 1.33 s, sys: 199 ms, total: 1.53 s\n",
            "Wall time: 2.22 s\n"
          ],
          "name": "stdout"
        }
      ]
    },
    {
      "cell_type": "code",
      "metadata": {
        "id": "VgNcgjnMt6ER",
        "colab_type": "code",
        "outputId": "8f58864a-c907-4f9a-b6a0-23043f82f2af",
        "colab": {
          "base_uri": "https://localhost:8080/",
          "height": 85
        }
      },
      "source": [
        "%%time\n",
        "# Evaluate the model on test set\n",
        "score = model.evaluate(x_test, y_test, verbose=0)\n",
        "\n",
        "# Print test accuracy\n",
        "print('\\n', 'Test accuracy:', score[1])"
      ],
      "execution_count": 0,
      "outputs": [
        {
          "output_type": "stream",
          "text": [
            "\n",
            " Test accuracy: 0.9099\n",
            "CPU times: user 1.28 s, sys: 183 ms, total: 1.46 s\n",
            "Wall time: 2.07 s\n"
          ],
          "name": "stdout"
        }
      ]
    },
    {
      "cell_type": "markdown",
      "metadata": {
        "id": "GJAaFlQYNhoW",
        "colab_type": "text"
      },
      "source": [
        "# Not bad!"
      ]
    }
  ]
}